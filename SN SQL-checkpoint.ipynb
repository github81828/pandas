{
 "cells": [
  {
   "cell_type": "code",
   "execution_count": 2,
   "id": "08bc59e2-2b71-4704-bc22-a7ae4fca0101",
   "metadata": {},
   "outputs": [],
   "source": [
    "import sqlite3"
   ]
  },
  {
   "cell_type": "code",
   "execution_count": 3,
   "id": "6a3c3266-569c-4fda-ae75-37733150dcdf",
   "metadata": {},
   "outputs": [],
   "source": [
    "connection_obj = sqlite3.connect('python')#python is file name .file will created in notebook working location"
   ]
  },
  {
   "cell_type": "code",
   "execution_count": null,
   "id": "e1a5e59a-4b64-48ff-ae1d-4eff64d56bd2",
   "metadata": {},
   "outputs": [],
   "source": []
  }
 ],
 "metadata": {
  "kernelspec": {
   "display_name": "Python 3 (ipykernel)",
   "language": "python",
   "name": "python3"
  },
  "language_info": {
   "codemirror_mode": {
    "name": "ipython",
    "version": 3
   },
   "file_extension": ".py",
   "mimetype": "text/x-python",
   "name": "python",
   "nbconvert_exporter": "python",
   "pygments_lexer": "ipython3",
   "version": "3.11.7"
  }
 },
 "nbformat": 4,
 "nbformat_minor": 5
}
