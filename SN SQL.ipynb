{
 "cells": [
  {
   "cell_type": "code",
   "execution_count": 3,
   "id": "08bc59e2-2b71-4704-bc22-a7ae4fca0101",
   "metadata": {},
   "outputs": [],
   "source": [
    "import sqlite3"
   ]
  },
  {
   "cell_type": "code",
   "execution_count": 4,
   "id": "6a3c3266-569c-4fda-ae75-37733150dcdf",
   "metadata": {},
   "outputs": [],
   "source": [
    "connection_obj = sqlite3.connect('python.db')#python is file name .file will created in notebook working location"
   ]
  },
  {
   "cell_type": "code",
   "execution_count": 1,
   "id": "e1a5e59a-4b64-48ff-ae1d-4eff64d56bd2",
   "metadata": {},
   "outputs": [
    {
     "data": {
      "text/plain": [
       "'C:\\\\Users\\\\admin'"
      ]
     },
     "execution_count": 1,
     "metadata": {},
     "output_type": "execute_result"
    }
   ],
   "source": [
    "import os\n",
    "os.getcwd()"
   ]
  },
  {
   "cell_type": "code",
   "execution_count": 6,
   "id": "1b6870f1-cb54-4db1-aaa1-cc27e3dbbc4f",
   "metadata": {},
   "outputs": [],
   "source": [
    "cursor_obj = connection_obj.cursor()#sql cmd is running through cursor()"
   ]
  },
  {
   "cell_type": "code",
   "execution_count": 7,
   "id": "81509335-78a5-4d1d-8011-959dc69d4769",
   "metadata": {},
   "outputs": [],
   "source": [
    "table = \"\"\" CREATE TABLE GEEK (\n",
    "            Email VARCHAR(255) NOT NULL,\n",
    "            First_Name CHAR(25) NOT NULL,\n",
    "            Last_Name CHAR(25),\n",
    "            Score INT\n",
    "        ); \"\"\""
   ]
  },
  {
   "cell_type": "code",
   "execution_count": 8,
   "id": "c9ab1f36-1d34-45ca-8fac-d43b2651f53c",
   "metadata": {},
   "outputs": [
    {
     "data": {
      "text/plain": [
       "<sqlite3.Cursor at 0x25792ce72c0>"
      ]
     },
     "execution_count": 8,
     "metadata": {},
     "output_type": "execute_result"
    }
   ],
   "source": [
    "cursor_obj.execute(table)"
   ]
  },
  {
   "cell_type": "code",
   "execution_count": 9,
   "id": "6fceff68-98aa-4f0a-a1eb-9b2a254daff2",
   "metadata": {},
   "outputs": [
    {
     "name": "stdout",
     "output_type": "stream",
     "text": [
      "Table is Ready\n"
     ]
    }
   ],
   "source": [
    "print(\"Table is Ready\")"
   ]
  },
  {
   "cell_type": "code",
   "execution_count": null,
   "id": "40eb81df-9598-459f-b679-f2ddf705ee29",
   "metadata": {},
   "outputs": [],
   "source": []
  }
 ],
 "metadata": {
  "kernelspec": {
   "display_name": "Python 3 (ipykernel)",
   "language": "python",
   "name": "python3"
  },
  "language_info": {
   "codemirror_mode": {
    "name": "ipython",
    "version": 3
   },
   "file_extension": ".py",
   "mimetype": "text/x-python",
   "name": "python",
   "nbconvert_exporter": "python",
   "pygments_lexer": "ipython3",
   "version": "3.11.7"
  }
 },
 "nbformat": 4,
 "nbformat_minor": 5
}
